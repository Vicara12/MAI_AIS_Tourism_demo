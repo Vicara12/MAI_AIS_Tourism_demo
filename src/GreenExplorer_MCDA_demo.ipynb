{
 "cells": [
  {
   "cell_type": "markdown",
   "id": "e53474fb",
   "metadata": {},
   "source": [
    "# GreenExplorer MCDA Pipeline Demo\n",
    "A minimal, end‑to‑end notebook that shows how to:\n",
    "1. Load the tourism CSVs already in your repo.\n",
    "2. (Optionally) call the ChatGPT API to enrich each POI with the six sustainability indicators *z₁–z₆*.\n",
    "3. Build an ELECTRE‑III decision matrix with **pyDecision** and get a ranking.\n",
    "4. Refine the non‑dominated kernel with a soft‑AND Logic‑Scoring‑of‑Preference (LSP) utility.\n",
    "5. Display the top‑k recommendations.\n",
    "\n",
    "> ✨ **Tip for class projects** – treat this notebook as a scaffold: run the cells, read the comments, then plug in your real indicator functions and UI.”"
   ]
  },
  {
   "cell_type": "markdown",
   "id": "2d15b6d3",
   "metadata": {},
   "source": [
    "## 📦 Install & import the specialised libraries\n",
    "Uncomment the first cell the **first time** you run the notebook or whenever you rebuild the Docker image."
   ]
  },
  {
   "cell_type": "code",
   "execution_count": 1,
   "id": "789de1ee",
   "metadata": {},
   "outputs": [],
   "source": [
    "import os, json, pandas as pd, numpy as np\n",
    "from dataloader import readTourismData\n",
    "\n",
    "# MCDA libraries\n",
    "from pyDecision.algorithm import electre_iii\n",
    "from pymcdm.helpers import rankdata\n"
   ]
  },
  {
   "cell_type": "markdown",
   "id": "15a91dc9",
   "metadata": {},
   "source": [
    "### 1️⃣ Load the demo POI corpus"
   ]
  },
  {
   "cell_type": "code",
   "execution_count": 2,
   "id": "1ebf5494",
   "metadata": {},
   "outputs": [
    {
     "name": "stdout",
     "output_type": "stream",
     "text": [
      "Total POIs loaded: 300\n"
     ]
    },
    {
     "data": {
      "text/html": [
       "<div>\n",
       "<style scoped>\n",
       "    .dataframe tbody tr th:only-of-type {\n",
       "        vertical-align: middle;\n",
       "    }\n",
       "\n",
       "    .dataframe tbody tr th {\n",
       "        vertical-align: top;\n",
       "    }\n",
       "\n",
       "    .dataframe thead th {\n",
       "        text-align: right;\n",
       "    }\n",
       "</style>\n",
       "<table border=\"1\" class=\"dataframe\">\n",
       "  <thead>\n",
       "    <tr style=\"text-align: right;\">\n",
       "      <th></th>\n",
       "      <th>name</th>\n",
       "      <th>category</th>\n",
       "      <th>lat</th>\n",
       "      <th>lon</th>\n",
       "      <th>sustainability</th>\n",
       "      <th>popularity</th>\n",
       "      <th>municipality</th>\n",
       "    </tr>\n",
       "  </thead>\n",
       "  <tbody>\n",
       "    <tr>\n",
       "      <th>0</th>\n",
       "      <td>La Sagrada Família</td>\n",
       "      <td>Monument</td>\n",
       "      <td>41.4036</td>\n",
       "      <td>2.1744</td>\n",
       "      <td>0.35</td>\n",
       "      <td>0.98</td>\n",
       "      <td>barcelona</td>\n",
       "    </tr>\n",
       "    <tr>\n",
       "      <th>1</th>\n",
       "      <td>Park Güell</td>\n",
       "      <td>Park</td>\n",
       "      <td>41.4145</td>\n",
       "      <td>2.1527</td>\n",
       "      <td>0.80</td>\n",
       "      <td>0.95</td>\n",
       "      <td>barcelona</td>\n",
       "    </tr>\n",
       "    <tr>\n",
       "      <th>2</th>\n",
       "      <td>Casa Batlló</td>\n",
       "      <td>Monument</td>\n",
       "      <td>41.3916</td>\n",
       "      <td>2.1649</td>\n",
       "      <td>0.40</td>\n",
       "      <td>0.92</td>\n",
       "      <td>barcelona</td>\n",
       "    </tr>\n",
       "    <tr>\n",
       "      <th>3</th>\n",
       "      <td>La Pedrera (Casa Milà)</td>\n",
       "      <td>Monument</td>\n",
       "      <td>41.3954</td>\n",
       "      <td>2.1619</td>\n",
       "      <td>0.45</td>\n",
       "      <td>0.88</td>\n",
       "      <td>barcelona</td>\n",
       "    </tr>\n",
       "    <tr>\n",
       "      <th>4</th>\n",
       "      <td>Barcelona Cathedral</td>\n",
       "      <td>Historic</td>\n",
       "      <td>41.3839</td>\n",
       "      <td>2.1763</td>\n",
       "      <td>0.50</td>\n",
       "      <td>0.85</td>\n",
       "      <td>barcelona</td>\n",
       "    </tr>\n",
       "  </tbody>\n",
       "</table>\n",
       "</div>"
      ],
      "text/plain": [
       "                     name  category      lat     lon  sustainability  \\\n",
       "0      La Sagrada Família  Monument  41.4036  2.1744            0.35   \n",
       "1              Park Güell      Park  41.4145  2.1527            0.80   \n",
       "2             Casa Batlló  Monument  41.3916  2.1649            0.40   \n",
       "3  La Pedrera (Casa Milà)  Monument  41.3954  2.1619            0.45   \n",
       "4     Barcelona Cathedral  Historic  41.3839  2.1763            0.50   \n",
       "\n",
       "   popularity municipality  \n",
       "0        0.98    barcelona  \n",
       "1        0.95    barcelona  \n",
       "2        0.92    barcelona  \n",
       "3        0.88    barcelona  \n",
       "4        0.85    barcelona  "
      ]
     },
     "execution_count": 2,
     "metadata": {},
     "output_type": "execute_result"
    }
   ],
   "source": [
    "df = readTourismData('../data')   # adjust path if you moved the notebook\n",
    "print(f'Total POIs loaded: {len(df):,}')\n",
    "df.head()"
   ]
  },
  {
   "cell_type": "markdown",
   "id": "74ae089e",
   "metadata": {},
   "source": [
    "### 2️⃣ Generate/attach the six sustainability indicators *(z₁–z₆)*\n",
    "Below is a **placeholder** that shows how you *could* call the ChatGPT API in batch‑mode.\n",
    "Replace the prompt with your own indicator derivation logic (API, heuristics, sensors, etc.)."
   ]
  },
  {
   "cell_type": "code",
   "execution_count": 14,
   "id": "4174f907",
   "metadata": {},
   "outputs": [
    {
     "name": "stderr",
     "output_type": "stream",
     "text": [
      "  0%|          | 0/300 [00:00<?, ?it/s]"
     ]
    },
    {
     "name": "stderr",
     "output_type": "stream",
     "text": [
      "100%|██████████| 300/300 [08:40<00:00,  1.74s/it]\n"
     ]
    }
   ],
   "source": [
    "from tqdm import tqdm\n",
    "import pandas as pd, json, os, time, random\n",
    "from openai import OpenAI\n",
    "from dotenv import load_dotenv\n",
    "load_dotenv()\n",
    "client = OpenAI()\n",
    "\n",
    "PROMPT_TEMPLATE = \"\"\"\n",
    "You are a sustainability analyst.  For the Point-of-Interest below,\n",
    "return ONLY valid JSON with keys z1–z6 (floats 0–1).\n",
    "\n",
    "Definitions (copy exactly):\n",
    "• z1 = estimated CO2-kg per individual visit (lower = greener).\n",
    "• z2 = current_visitors / carrying_capacity (lower = less crowded).\n",
    "• z3 = entropy-based seasonality balance (higher = steadier flow).\n",
    "• z4 = proportion of revenue retained locally (higher = better).\n",
    "• z5 = crowd-adjusted heritage fragility (lower = safer for culture).\n",
    "• z6 = overall physical & sensory accessibility (higher = inclusive).\n",
    "\n",
    "POI:\n",
    "Name: {name}\n",
    "Category: {category}\n",
    "Lat,Lon: {lat}, {lon}\n",
    "Known sustainability proxy (0-1): {sustainability}\n",
    "Popularity score (0-1): {popularity}\n",
    "\"\"\"\n",
    "\n",
    "SYSTEM_MSG = {\n",
    "    \"role\": \"system\",\n",
    "    \"content\": \"You are a strict JSON generator. Output only valid JSON.\"\n",
    "}\n",
    "\n",
    "def gpt_enrich_row(row):\n",
    "    prompt = PROMPT_TEMPLATE.format(**row)\n",
    "    resp = client.chat.completions.create(\n",
    "        model=\"gpt-4o-mini\",\n",
    "        messages=[SYSTEM_MSG, {\"role\": \"user\", \"content\": prompt}],\n",
    "        temperature=0.1,\n",
    "        response_format={\"type\": \"json_object\"}\n",
    "    )\n",
    "    return json.loads(resp.choices[0].message.content)\n",
    "\n",
    "def enrich_dataframe(df):\n",
    "    records = []\n",
    "    for _, r in tqdm(df.iterrows(), total=len(df)):\n",
    "        try:\n",
    "            records.append(gpt_enrich_row(r))\n",
    "        except Exception as e:\n",
    "            print(f\"⚠️  Skipped {r['name']}: {e}\")\n",
    "            records.append({f\"z{i}\": None for i in range(1, 7)})\n",
    "    return pd.concat([df.reset_index(drop=True),\n",
    "                      pd.DataFrame(records)], axis=1)\n",
    "\n",
    "# usage\n",
    "df = readTourismData(\"../data\")\n",
    "df = enrich_dataframe(df)\n"
   ]
  },
  {
   "cell_type": "code",
   "execution_count": 15,
   "id": "098c713f",
   "metadata": {},
   "outputs": [
    {
     "name": "stdout",
     "output_type": "stream",
     "text": [
      "✅  Master CSV written → ../data/poi_all_enriched.csv  (300 rows)\n",
      " • Saved ../data/poi_barcelona_30_enriched.csv\n",
      " • Saved ../data/poi_besalu_30_enriched.csv\n",
      " • Saved ../data/poi_cadaques_30_enriched.csv\n",
      " • Saved ../data/poi_figueres_30_enriched.csv\n",
      " • Saved ../data/poi_girona_30_enriched.csv\n",
      " • Saved ../data/poi_lleida_30_enriched.csv\n",
      " • Saved ../data/poi_montblanc_30_enriched.csv\n",
      " • Saved ../data/poi_sitges_30_enriched.csv\n",
      " • Saved ../data/poi_tarragona_30_enriched.csv\n",
      " • Saved ../data/poi_vic_30_enriched.csv\n"
     ]
    }
   ],
   "source": [
    "# ── CELL ▒▒ Save enriched data ▒▒─────────────────────────────────────────────\n",
    "# 1) master file with every POI + z-indicators\n",
    "master_path = \"../data/poi_all_enriched.csv\"\n",
    "df.to_csv(master_path, index=False)\n",
    "print(f\"✅  Master CSV written → {master_path}  ({len(df):,} rows)\")\n",
    "\n",
    "# 2) one CSV per municipality (keeps the original naming convention)\n",
    "for muni, sub in df.groupby(\"municipality\"):\n",
    "    fname = f\"../data/poi_{muni}_30_enriched.csv\"\n",
    "    sub.to_csv(fname, index=False)\n",
    "    print(\" • Saved\", fname)\n"
   ]
  },
  {
   "cell_type": "markdown",
   "id": "f33399e8",
   "metadata": {},
   "source": [
    "### 3️⃣ Build the ELECTRE‑III decision matrix\n",
    "We use **pyDecision** because it already implements the full ELECTRE family (I–TRI).\n",
    "Weights, thresholds (q/p/v) and the λ‑cut come straight out of the research report."
   ]
  },
  {
   "cell_type": "code",
   "execution_count": 17,
   "id": "32baa7c2",
   "metadata": {},
   "outputs": [
    {
     "ename": "ValueError",
     "evalue": "Length of values (144) does not match length of index (300)",
     "output_type": "error",
     "traceback": [
      "\u001b[0;31m---------------------------------------------------------------------------\u001b[0m",
      "\u001b[0;31mValueError\u001b[0m                                Traceback (most recent call last)",
      "Input \u001b[0;32mIn [17]\u001b[0m, in \u001b[0;36m<cell line: 19>\u001b[0;34m()\u001b[0m\n\u001b[1;32m     15\u001b[0m g_conc, credibility, rank_D, rank_A, rank_N, rank_P \u001b[38;5;241m=\u001b[39m electre_iii(\n\u001b[1;32m     16\u001b[0m         matrix, P\u001b[38;5;241m=\u001b[39mP, Q\u001b[38;5;241m=\u001b[39mQ, V\u001b[38;5;241m=\u001b[39mV, W\u001b[38;5;241m=\u001b[39mW, graph\u001b[38;5;241m=\u001b[39m\u001b[38;5;28;01mFalse\u001b[39;00m)\n\u001b[1;32m     18\u001b[0m \u001b[38;5;66;03m# 3. Attach descending-rank (rank_D) to the DataFrame\u001b[39;00m\n\u001b[0;32m---> 19\u001b[0m df[\u001b[38;5;124m\"\u001b[39m\u001b[38;5;124melectre_rank\u001b[39m\u001b[38;5;124m\"\u001b[39m] \u001b[38;5;241m=\u001b[39m \u001b[43mpd\u001b[49m\u001b[38;5;241;43m.\u001b[39;49m\u001b[43mSeries\u001b[49m\u001b[43m(\u001b[49m\u001b[43mrank_D\u001b[49m\u001b[43m,\u001b[49m\u001b[43m \u001b[49m\u001b[43mindex\u001b[49m\u001b[38;5;241;43m=\u001b[39;49m\u001b[43mdf\u001b[49m\u001b[38;5;241;43m.\u001b[39;49m\u001b[43mindex\u001b[49m\u001b[43m)\u001b[49m\n\u001b[1;32m     20\u001b[0m df\u001b[38;5;241m.\u001b[39msort_values(\u001b[38;5;124m\"\u001b[39m\u001b[38;5;124melectre_rank\u001b[39m\u001b[38;5;124m\"\u001b[39m)\u001b[38;5;241m.\u001b[39mhead(\u001b[38;5;241m10\u001b[39m)\n",
      "File \u001b[0;32m~/anaconda3/envs/iml/lib/python3.9/site-packages/pandas/core/series.py:575\u001b[0m, in \u001b[0;36mSeries.__init__\u001b[0;34m(self, data, index, dtype, name, copy, fastpath)\u001b[0m\n\u001b[1;32m    573\u001b[0m     index \u001b[38;5;241m=\u001b[39m default_index(\u001b[38;5;28mlen\u001b[39m(data))\n\u001b[1;32m    574\u001b[0m \u001b[38;5;28;01melif\u001b[39;00m is_list_like(data):\n\u001b[0;32m--> 575\u001b[0m     \u001b[43mcom\u001b[49m\u001b[38;5;241;43m.\u001b[39;49m\u001b[43mrequire_length_match\u001b[49m\u001b[43m(\u001b[49m\u001b[43mdata\u001b[49m\u001b[43m,\u001b[49m\u001b[43m \u001b[49m\u001b[43mindex\u001b[49m\u001b[43m)\u001b[49m\n\u001b[1;32m    577\u001b[0m \u001b[38;5;66;03m# create/copy the manager\u001b[39;00m\n\u001b[1;32m    578\u001b[0m \u001b[38;5;28;01mif\u001b[39;00m \u001b[38;5;28misinstance\u001b[39m(data, (SingleBlockManager, SingleArrayManager)):\n",
      "File \u001b[0;32m~/anaconda3/envs/iml/lib/python3.9/site-packages/pandas/core/common.py:573\u001b[0m, in \u001b[0;36mrequire_length_match\u001b[0;34m(data, index)\u001b[0m\n\u001b[1;32m    569\u001b[0m \u001b[38;5;250m\u001b[39m\u001b[38;5;124;03m\"\"\"\u001b[39;00m\n\u001b[1;32m    570\u001b[0m \u001b[38;5;124;03mCheck the length of data matches the length of the index.\u001b[39;00m\n\u001b[1;32m    571\u001b[0m \u001b[38;5;124;03m\"\"\"\u001b[39;00m\n\u001b[1;32m    572\u001b[0m \u001b[38;5;28;01mif\u001b[39;00m \u001b[38;5;28mlen\u001b[39m(data) \u001b[38;5;241m!=\u001b[39m \u001b[38;5;28mlen\u001b[39m(index):\n\u001b[0;32m--> 573\u001b[0m     \u001b[38;5;28;01mraise\u001b[39;00m \u001b[38;5;167;01mValueError\u001b[39;00m(\n\u001b[1;32m    574\u001b[0m         \u001b[38;5;124m\"\u001b[39m\u001b[38;5;124mLength of values \u001b[39m\u001b[38;5;124m\"\u001b[39m\n\u001b[1;32m    575\u001b[0m         \u001b[38;5;124mf\u001b[39m\u001b[38;5;124m\"\u001b[39m\u001b[38;5;124m(\u001b[39m\u001b[38;5;132;01m{\u001b[39;00m\u001b[38;5;28mlen\u001b[39m(data)\u001b[38;5;132;01m}\u001b[39;00m\u001b[38;5;124m) \u001b[39m\u001b[38;5;124m\"\u001b[39m\n\u001b[1;32m    576\u001b[0m         \u001b[38;5;124m\"\u001b[39m\u001b[38;5;124mdoes not match length of index \u001b[39m\u001b[38;5;124m\"\u001b[39m\n\u001b[1;32m    577\u001b[0m         \u001b[38;5;124mf\u001b[39m\u001b[38;5;124m\"\u001b[39m\u001b[38;5;124m(\u001b[39m\u001b[38;5;132;01m{\u001b[39;00m\u001b[38;5;28mlen\u001b[39m(index)\u001b[38;5;132;01m}\u001b[39;00m\u001b[38;5;124m)\u001b[39m\u001b[38;5;124m\"\u001b[39m\n\u001b[1;32m    578\u001b[0m     )\n",
      "\u001b[0;31mValueError\u001b[0m: Length of values (144) does not match length of index (300)"
     ]
    }
   ],
   "source": [
    "# Decision matrix: rows = POIs, columns = criteria\n",
    "criteria = [f'z{i}' for i in range(1,8)]  # z7 will be preference‑fit; stub as popularity for now\n",
    "df['z7'] = df['popularity']               # placeholder until you plug real user/group utility\n",
    "matrix = df[criteria].to_numpy()\n",
    "\n",
    "weights = np.array([0.08, 0.12, 0.05, 0.10, 0.10, 0.05, 0.50])\n",
    "types   = np.array([ -1,  -1,   1,   1,  -1,   1,   1])      # ‑1 = cost, +1 = benefit\n",
    "\n",
    "P = np.full(7, 0.20)          # preference\n",
    "Q = np.full(7, 0.05)          # indifference\n",
    "V = np.full(7, 0.50)          # veto\n",
    "W = weights                   # same w as before\n",
    "\n",
    "# 2. Run ELECTRE-III\n",
    "g_conc, credibility, rank_D, rank_A, rank_N, rank_P = electre_iii(\n",
    "        matrix, P=P, Q=Q, V=V, W=W, graph=False)\n",
    "\n",
    "# 3. Attach descending-rank (rank_D) to the DataFrame\n",
    "df[\"electre_rank\"] = pd.Series(rank_D, index=df.index)\n",
    "df.sort_values(\"electre_rank\").head(10)\n"
   ]
  },
  {
   "cell_type": "markdown",
   "id": "c6558422",
   "metadata": {},
   "source": [
    "### 4️⃣ Soft‑AND LSP utility inside the non‑dominated kernel"
   ]
  },
  {
   "cell_type": "code",
   "execution_count": null,
   "id": "a9e0b6ce",
   "metadata": {},
   "outputs": [],
   "source": [
    "rho = 0.5\n",
    "def lsp(row, rho=0.5):\n",
    "    # soft‑AND power mean\n",
    "    return (np.sum(weights * (row[criteria] ** rho))) ** (1/rho)\n",
    "\n",
    "kernel = df[df['electre_rank'] <= 25].copy()\n",
    "kernel['U_LSP'] = kernel.apply(lsp, axis=1)\n",
    "kernel.sort_values('U_LSP', ascending=False).head(10)"
   ]
  },
  {
   "cell_type": "markdown",
   "id": "7fa27833",
   "metadata": {},
   "source": [
    "### 5️⃣ Visualise the top‑k POIs on a map\n",
    "Streamlit already does this in your current `main.py`, but here’s a one‑liner with **folium** if you want to stay in‑notebook."
   ]
  },
  {
   "cell_type": "code",
   "execution_count": null,
   "id": "27b53b15",
   "metadata": {},
   "outputs": [],
   "source": [
    "# !pip install folium --quiet\n",
    "import folium, webbrowser, tempfile, uuid\n",
    "\n",
    "m = folium.Map(location=[41.3851, 2.1734], zoom_start=6)\n",
    "top = kernel.head(15)\n",
    "for _, r in top.iterrows():\n",
    "    folium.CircleMarker(\n",
    "        [r['lat'], r['lon']],\n",
    "        radius=6,\n",
    "        popup=f\"{r['name']} — U={r['U_LSP']:.2f}\",\n",
    "        fill=True\n",
    "    ).add_to(m)\n",
    "\n",
    "temp_path = Path(tempfile.gettempdir()) / f\"greenexplorer_{uuid.uuid4().hex}.html\"\n",
    "m.save(temp_path)\n",
    "webbrowser.open(temp_path.as_uri())\n",
    "print(f\"Map saved to {temp_path}\")"
   ]
  },
  {
   "cell_type": "markdown",
   "id": "de3d95dd",
   "metadata": {},
   "source": [
    "---\n",
    "**You’re all set!**\n",
    "\n",
    "*Next steps*\n",
    "1. Wire this notebook into your Streamlit UI (call the functions in `src/`).\n",
    "2. Replace the random indicator generator with real data pipelines or the ChatGPT enrichment.\n",
    "3. Plug the user/group preference vector into `z7`.\n",
    "4. Tune the ELECTRE thresholds & weights, then run the user study. :rocket:"
   ]
  }
 ],
 "metadata": {
  "kernelspec": {
   "display_name": "iml",
   "language": "python",
   "name": "python3"
  },
  "language_info": {
   "codemirror_mode": {
    "name": "ipython",
    "version": 3
   },
   "file_extension": ".py",
   "mimetype": "text/x-python",
   "name": "python",
   "nbconvert_exporter": "python",
   "pygments_lexer": "ipython3",
   "version": "3.9.20"
  }
 },
 "nbformat": 4,
 "nbformat_minor": 5
}
